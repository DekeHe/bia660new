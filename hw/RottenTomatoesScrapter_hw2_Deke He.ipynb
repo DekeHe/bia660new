{
 "cells": [
  {
   "cell_type": "code",
   "execution_count": 24,
   "id": "91f72c14",
   "metadata": {},
   "outputs": [
    {
     "name": "stdout",
     "output_type": "stream",
     "text": [
      "Requirement already satisfied: selenium in /opt/anaconda3/lib/python3.9/site-packages (4.3.0)\n",
      "Requirement already satisfied: trio-websocket~=0.9 in /opt/anaconda3/lib/python3.9/site-packages (from selenium) (0.9.2)\n",
      "Requirement already satisfied: trio~=0.17 in /opt/anaconda3/lib/python3.9/site-packages (from selenium) (0.21.0)\n",
      "Requirement already satisfied: urllib3[secure,socks]~=1.26 in /opt/anaconda3/lib/python3.9/site-packages (from selenium) (1.26.9)\n",
      "Requirement already satisfied: attrs>=19.2.0 in /opt/anaconda3/lib/python3.9/site-packages (from trio~=0.17->selenium) (21.4.0)\n",
      "Requirement already satisfied: sniffio in /opt/anaconda3/lib/python3.9/site-packages (from trio~=0.17->selenium) (1.2.0)\n",
      "Requirement already satisfied: sortedcontainers in /opt/anaconda3/lib/python3.9/site-packages (from trio~=0.17->selenium) (2.4.0)\n",
      "Requirement already satisfied: async-generator>=1.9 in /opt/anaconda3/lib/python3.9/site-packages (from trio~=0.17->selenium) (1.10)\n",
      "Requirement already satisfied: outcome in /opt/anaconda3/lib/python3.9/site-packages (from trio~=0.17->selenium) (1.2.0)\n",
      "Requirement already satisfied: idna in /opt/anaconda3/lib/python3.9/site-packages (from trio~=0.17->selenium) (3.3)\n",
      "Requirement already satisfied: wsproto>=0.14 in /opt/anaconda3/lib/python3.9/site-packages (from trio-websocket~=0.9->selenium) (1.1.0)\n",
      "Requirement already satisfied: PySocks!=1.5.7,<2.0,>=1.5.6 in /opt/anaconda3/lib/python3.9/site-packages (from urllib3[secure,socks]~=1.26->selenium) (1.7.1)\n",
      "Requirement already satisfied: certifi in /opt/anaconda3/lib/python3.9/site-packages (from urllib3[secure,socks]~=1.26->selenium) (2021.10.8)\n",
      "Requirement already satisfied: cryptography>=1.3.4 in /opt/anaconda3/lib/python3.9/site-packages (from urllib3[secure,socks]~=1.26->selenium) (3.4.8)\n",
      "Requirement already satisfied: pyOpenSSL>=0.14 in /opt/anaconda3/lib/python3.9/site-packages (from urllib3[secure,socks]~=1.26->selenium) (21.0.0)\n",
      "Requirement already satisfied: cffi>=1.12 in /opt/anaconda3/lib/python3.9/site-packages (from cryptography>=1.3.4->urllib3[secure,socks]~=1.26->selenium) (1.15.0)\n",
      "Requirement already satisfied: pycparser in /opt/anaconda3/lib/python3.9/site-packages (from cffi>=1.12->cryptography>=1.3.4->urllib3[secure,socks]~=1.26->selenium) (2.21)\n",
      "Requirement already satisfied: six>=1.5.2 in /opt/anaconda3/lib/python3.9/site-packages (from pyOpenSSL>=0.14->urllib3[secure,socks]~=1.26->selenium) (1.16.0)\n",
      "Requirement already satisfied: h11<1,>=0.9.0 in /opt/anaconda3/lib/python3.9/site-packages (from wsproto>=0.14->trio-websocket~=0.9->selenium) (0.13.0)\n",
      "\u001b[33mDEPRECATION: Configuring installation scheme with distutils config files is deprecated and will no longer work in the near future. If you are using a Homebrew or Linuxbrew Python, please see discussion at https://github.com/Homebrew/homebrew-core/issues/76621\u001b[0m\u001b[33m\n",
      "\u001b[0mRequirement already satisfied: webdriver-manager in /opt/homebrew/lib/python3.9/site-packages (3.7.1)\n",
      "Requirement already satisfied: requests in /opt/homebrew/lib/python3.9/site-packages (from webdriver-manager) (2.28.0)\n",
      "Requirement already satisfied: python-dotenv in /opt/homebrew/lib/python3.9/site-packages (from webdriver-manager) (0.20.0)\n",
      "Requirement already satisfied: urllib3<1.27,>=1.21.1 in /opt/homebrew/lib/python3.9/site-packages (from requests->webdriver-manager) (1.26.9)\n",
      "Requirement already satisfied: idna<4,>=2.5 in /opt/homebrew/lib/python3.9/site-packages (from requests->webdriver-manager) (3.3)\n",
      "Requirement already satisfied: charset-normalizer~=2.0.0 in /opt/homebrew/lib/python3.9/site-packages (from requests->webdriver-manager) (2.0.12)\n",
      "Requirement already satisfied: certifi>=2017.4.17 in /opt/homebrew/lib/python3.9/site-packages (from requests->webdriver-manager) (2022.6.15)\n",
      "\u001b[33mDEPRECATION: Configuring installation scheme with distutils config files is deprecated and will no longer work in the near future. If you are using a Homebrew or Linuxbrew Python, please see discussion at https://github.com/Homebrew/homebrew-core/issues/76621\u001b[0m\u001b[33m\n",
      "\u001b[0m\u001b[33mWARNING: There was an error checking the latest version of pip.\u001b[0m\u001b[33m\n",
      "\u001b[0m"
     ]
    }
   ],
   "source": [
    "# !pip3 install -U selenium\n",
    "!pip install selenium\n",
    "!pip3 install webdriver-manager\n"
   ]
  },
  {
   "cell_type": "code",
   "execution_count": 25,
   "id": "bca22eb3",
   "metadata": {},
   "outputs": [],
   "source": [
    "import re, time,csv\n",
    "import selenium\n",
    "from selenium import webdriver\n",
    "from selenium.webdriver.common.by import By\n",
    "from selenium.webdriver.chrome.service import Service\n",
    "from webdriver_manager.chrome import ChromeDriverManager\n",
    "from selenium.webdriver.support.ui import WebDriverWait\n",
    "from selenium.webdriver.support import expected_conditions as EC"
   ]
  },
  {
   "cell_type": "code",
   "execution_count": 26,
   "id": "b271498e",
   "metadata": {},
   "outputs": [],
   "source": [
    "def scrape(driver,url):\n",
    "    fw=open('output.csv','w',encoding='utf8')\n",
    "    writer=csv.writer(fw,lineterminator='\\n')\n",
    "    writer.writerow(['name','date','text','polarity'])\n",
    "\n",
    "    driver.get(url)\n",
    "\n",
    "    while True:\n",
    "        driver.execute_script('window,scrollTo(0,document.body.scrollHeight)')\n",
    "\n",
    "        reviews=driver.find_elements(by=By.CSS_SELECTOR,value='[class=\"row review_table_row\"]')\n",
    "\n",
    "        for review in reviews:\n",
    "\n",
    "            name,date,text,polarity='NA','NA','NA','NA'\n",
    "\n",
    "            try:\n",
    "                pattern=\"unstyled bold articleLink\"\n",
    "                nameBox=review.find_element(by=By.CSS_SELECTOR,value='[href*=\"/critics/\"]')\n",
    "            except:\n",
    "                nameBox=None\n",
    "\n",
    "            if nameBox:name=nameBox.text\n",
    "\n",
    "            try:\n",
    "                dateBox=review.find_element(by=By.CSS_SELECTOR,value='[class=\"review-date subtle small\"]')\n",
    "            except:\n",
    "                dateBox=None\n",
    "\n",
    "            if dateBox:date=dateBox.text\n",
    "\n",
    "            try:\n",
    "                textBox=review.find_element(by=By.CSS_SELECTOR,value='[class=\"the_review\"]')\n",
    "            except:\n",
    "                textBox=None\n",
    "\n",
    "            if textBox:text=textBox.text\n",
    "\n",
    "            try:\n",
    "                polarityBox=review.find_element(by=By.CSS_SELECTOR,value='[class*=\"review_icon icon small\"]')\n",
    "            except:\n",
    "                polarityBox=None\n",
    "\n",
    "            if polarityBox:\n",
    "                temp=polarityBox.get_attribute('class')\n",
    "\n",
    "                polarity=re.search('small ([a-z]+)',temp)\n",
    "                polarity=polarity.group(1)\n",
    "            # print(\":\", polarity)\n",
    "            # print(name,'\\t',date,'\\t',text[:10],'\\t',polarity)\n",
    "            writer.writerow([name,date,text,polarity])\n",
    "\n",
    "\n",
    "        next=WebDriverWait(driver,5).until(EC.presence_of_element_located((By.CLASS_NAME,\"prev-next-paging__button-right\")))\n",
    "\n",
    "        if 'hide' in next.get_attribute('class'):\n",
    "            break\n",
    "\n",
    "        next.click()\n",
    "\n",
    "        time.sleep(3)\n",
    "\n",
    "    fw.close()\n"
   ]
  },
  {
   "cell_type": "code",
   "execution_count": 27,
   "id": "a0ae816d",
   "metadata": {},
   "outputs": [
    {
     "name": "stdout",
     "output_type": "stream",
     "text": [
      "\n"
     ]
    },
    {
     "name": "stderr",
     "output_type": "stream",
     "text": [
      "[WDM] - ====== WebDriver manager ======\n",
      "[WDM] - Current google-chrome version is 103.0.5060\n",
      "[WDM] - Get LATEST chromedriver version for 103.0.5060 google-chrome\n",
      "[WDM] - Driver [/Users/hedeke/.wdm/drivers/chromedriver/mac64/103.0.5060.53/chromedriver] found in cache\n"
     ]
    }
   ],
   "source": [
    "driver=webdriver.Chrome(service=Service(ChromeDriverManager().install()))\n",
    "\n",
    "\n",
    "url='https://www.rottentomatoes.com/m/exodus_gods_and_kings/reviews'\n",
    "scrape(driver,url)"
   ]
  }
 ],
 "metadata": {
  "kernelspec": {
   "display_name": "Python 3 (ipykernel)",
   "language": "python",
   "name": "python3"
  },
  "language_info": {
   "codemirror_mode": {
    "name": "ipython",
    "version": 3
   },
   "file_extension": ".py",
   "mimetype": "text/x-python",
   "name": "python",
   "nbconvert_exporter": "python",
   "pygments_lexer": "ipython3",
   "version": "3.9.12"
  }
 },
 "nbformat": 4,
 "nbformat_minor": 5
}
